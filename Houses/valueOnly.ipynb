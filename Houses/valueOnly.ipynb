{
 "metadata": {
  "language_info": {
   "codemirror_mode": {
    "name": "ipython",
    "version": 3
   },
   "file_extension": ".py",
   "mimetype": "text/x-python",
   "name": "python",
   "nbconvert_exporter": "python",
   "pygments_lexer": "ipython3",
   "version": 3
  },
  "orig_nbformat": 2
 },
 "nbformat": 4,
 "nbformat_minor": 2,
 "cells": [
  {
   "cell_type": "code",
   "execution_count": null,
   "metadata": {},
   "outputs": [],
   "source": [
    "import pandas as pd\n",
    "df = pd.read_csv('train.csv')\n",
    "df_test = pd.read_csv('test.csv')\n",
    "print(df.head(4))"
   ]
  },
  {
   "source": [
    "For this I will mainly focus on the numerical data. This includes\n",
    "- LotFrontage\n",
    "- LotArea\n",
    "- OverallQual\n",
    "- OverallCond\n",
    "- YearBuilt\n",
    "- YearRemodAdd\n",
    "- MasVnrArea\n",
    "- BsmtFinSF1\n",
    "- BsmtFinSF2\n",
    "- BsmtUnfSF\n",
    "- TotalBsmtSF\n",
    "- 1stFlrSF\n",
    "- 2ndFlrSF\n",
    "- LowQualFinSF\n",
    "- GrLivArea\n",
    "- BsmtFullBath\n",
    "- BsmtHalfBath\n",
    "- BsmtFullBath\n",
    "- BsmtHalfBath\n",
    "- Bedroom\n",
    "- Kitchen\n",
    "- TotRmsAbvGrd\n",
    "- Fireplaces\n",
    "- GarageYrBlt\n",
    "- GarageCars\n",
    "- GarageArea\n",
    "- WoodDeckSF\n",
    "- OpenPorchSF\n",
    "- EnclosedPorch\n",
    "- 3SsnPorn\n",
    "- ScreenPorch\n",
    "- PoolArea\n",
    "- MiscVal\n",
    "- MoSold\n",
    "- YrSold\n"
   ],
   "cell_type": "markdown",
   "metadata": {}
  }
 ]
}