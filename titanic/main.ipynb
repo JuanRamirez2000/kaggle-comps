{
 "metadata": {
  "language_info": {
   "codemirror_mode": {
    "name": "ipython",
    "version": 3
   },
   "file_extension": ".py",
   "mimetype": "text/x-python",
   "name": "python",
   "nbconvert_exporter": "python",
   "pygments_lexer": "ipython3",
   "version": "3.8.3-final"
  },
  "orig_nbformat": 2,
  "kernelspec": {
   "name": "python3",
   "display_name": "Python 3.8.3 32-bit",
   "metadata": {
    "interpreter": {
     "hash": "3a9086fee7f06fba31ba31c076f3a023372d5d122171a7e86fc81fbb1080ca2c"
    }
   }
  }
 },
 "nbformat": 4,
 "nbformat_minor": 2,
 "cells": [
  {
   "source": [
    "This is my first kaggle competition. I hope to make a simple linear regression model for my first submission"
   ],
   "cell_type": "markdown",
   "metadata": {}
  },
  {
   "source": [
    "The first thing we must do is import the test.cv file and its contents into a variable in which we can train our model on. We shall do this with the read_csv function within the pandas module. Once read we will import it into a numpy array"
   ],
   "cell_type": "markdown",
   "metadata": {}
  },
  {
   "cell_type": "code",
   "execution_count": 7,
   "metadata": {
    "tags": []
   },
   "outputs": [],
   "source": [
    "import numpy as np\n",
    "import pandas as pd\n",
    "df = pd.read_csv('train.csv')\n",
    "df_test = pd.read_csv('test.csv')"
   ]
  },
  {
   "source": [
    "Where our feature list is defined as\n",
    "<br>Feature List:\n",
    "<br>[PassengerId,Pclass,Name,Sex,Age,SibSp,Parch,Ticket,Fare,Cabin,Embarked]\n",
    "<br>Target List:\n",
    "<br>[Survived]"
   ],
   "cell_type": "markdown",
   "metadata": {}
  },
  {
   "source": [
    "For my model, I will make some rather naive assumptions:\n",
    "- PassengerID makes no impact\n",
    "- Pclass makes a huge impact\n",
    "- Name makes no impact\n",
    "- Sex makes some impact (though I will leave it out for now)\n",
    "- Age makes some impact (however due to NaN values we will leave it for now)\n",
    "- SibSp makes some impact\n",
    "- Parch makes some impact \n",
    "- Ticket doesn't make much of an impact\n",
    "- Fare does make a slight impact (though I will ignore for now due to NaN issues)\n",
    "- Cabin makes no impact\n",
    "- Embarked makes no impact\n",
    "\n",
    "With this in mind, we shall only take into account\n",
    "- Pclass\n",
    "- SibSp\n",
    "- Parch\n",
    "\n",
    "While this does simplify my model greatly, it might drop the accuracy"
   ],
   "cell_type": "markdown",
   "metadata": {}
  },
  {
   "cell_type": "code",
   "execution_count": 8,
   "metadata": {
    "tags": []
   },
   "outputs": [
    {
     "output_type": "stream",
     "name": "stdout",
     "text": [
      "     Pclass  SibSp  Parch\n0         3      1      0\n1         1      1      0\n2         3      0      0\n3         1      1      0\n4         3      0      0\n..      ...    ...    ...\n886       2      0      0\n887       1      0      0\n888       3      1      2\n889       1      0      0\n890       3      0      0\n\n[891 rows x 3 columns]\n"
     ]
    }
   ],
   "source": [
    "X = df[['Pclass', 'SibSp', 'Parch']].to_numpy()\n",
    "Y = df[['Survived']].to_numpy()"
   ]
  },
  {
   "source": [
    "Now we can start with linear regression. We will be completing this with scikitlearn Our model will use pure linear regression on the train set without doing any cross validation(how archaic!)"
   ],
   "cell_type": "markdown",
   "metadata": {}
  },
  {
   "cell_type": "code",
   "execution_count": 9,
   "metadata": {},
   "outputs": [],
   "source": [
    "from sklearn.linear_model import LinearRegression\n",
    "regression = LinearRegression().fit(X,Y)"
   ]
  },
  {
   "source": [
    "Now that we have trained our model we can check the error it has caused"
   ],
   "cell_type": "markdown",
   "metadata": {}
  },
  {
   "cell_type": "code",
   "execution_count": 10,
   "metadata": {},
   "outputs": [],
   "source": [
    "from sklearn.metrics import mean_squared_error\n",
    "Y_hat = regression.predict(X)\n",
    "loss = mean_squared_error(Y, Y_hat)"
   ]
  },
  {
   "source": [
    "Checking against our test data as well"
   ],
   "cell_type": "markdown",
   "metadata": {}
  },
  {
   "cell_type": "code",
   "execution_count": 5,
   "metadata": {},
   "outputs": [],
   "source": [
    "X_test = df_test[['Pclass', 'SibSp', 'Parch']].to_numpy()\n",
    "predictions = np.array(regression.predict(X_test))\n",
    "predictions[predictions > 0.5] = 1\n",
    "predictions[predictions < 0.5] = 0"
   ]
  },
  {
   "cell_type": "code",
   "execution_count": 6,
   "metadata": {},
   "outputs": [],
   "source": [
    "output = pd.DataFrame({'PassengerId'  : df_test.PassengerId,\n",
    "                       'Survived'     : [int(row[0]) for row in predictions]})\n",
    "output.to_csv('my_submission.csv', index=False)"
   ]
  },
  {
   "cell_type": "code",
   "execution_count": null,
   "metadata": {},
   "outputs": [],
   "source": []
  }
 ]
}